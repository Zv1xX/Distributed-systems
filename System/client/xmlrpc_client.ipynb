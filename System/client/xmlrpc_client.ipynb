{
 "cells": [
  {
   "cell_type": "code",
   "execution_count": 1,
   "metadata": {
    "scrolled": true
   },
   "outputs": [
    {
     "name": "stdout",
     "output_type": "stream",
     "text": [
      "['black_list_check', 'color_inversion', 'flip_image_vertical', 'now', 'ping', 'pow', 'send_back_binary', 'sum', 'system.listMethods', 'system.methodHelp', 'system.methodSignature', 'threshold_image', 'type']\n",
      "Ping: True\n",
      "Server datetime: 20231024T13:29:01\n",
      "View, type, value: ['2', \"<class 'int'>\", 2]\n",
      "View, type, value: ['2.55', \"<class 'float'>\", 2.55]\n",
      "View, type, value: ['My string', \"<class 'str'>\", 'My string']\n",
      "View, type, value: ['My string', \"<class 'str'>\", 'My string']\n",
      "View, type, value: ['[1, 2, 3]', \"<class 'list'>\", [1, 2, 3]]\n",
      "View, type, value: [\"['one', 'two', 'three']\", \"<class 'list'>\", ['one', 'two', 'three']]\n",
      "View, type, value: [\"[1, 2, '3']\", \"<class 'list'>\", [1, 2, '3']]\n",
      "Sum 2 + 3: 5\n",
      "Pow 2^3: 8\n"
     ]
    }
   ],
   "source": [
    "# xmlrpc_client.ipynb\n",
    "\n",
    "import xmlrpc.client\n",
    "import pickle\n",
    "import pandas as pd\n",
    "\n",
    "server = xmlrpc.client.ServerProxy(\"http://localhost:8008\")\n",
    "\n",
    "print(server.system.listMethods())\n",
    "print('Ping:', server.ping())\n",
    "\n",
    "print('Server datetime:', server.now())\n",
    "\n",
    "print('View, type, value:', server.type(2))\n",
    "print('View, type, value:', server.type(2.55))\n",
    "print('View, type, value:', server.type('My string'))\n",
    "print('View, type, value:', server.type(\"My string\"))\n",
    "print('View, type, value:', server.type([1,2,3]))\n",
    "print('View, type, value:', server.type([\"one\", \"two\", \"three\"]))\n",
    "print('View, type, value:', server.type((1,2,\"3\")))\n",
    "\n",
    "print('Sum 2 + 3:', server.sum(2, 3))\n",
    "print('Pow 2^3:', server.pow(2, 3))"
   ]
  },
  {
   "cell_type": "code",
   "execution_count": 2,
   "metadata": {
    "scrolled": true
   },
   "outputs": [
    {
     "ename": "TypeError",
     "evalue": "imshow() missing 1 required positional argument: 'X'",
     "output_type": "error",
     "traceback": [
      "\u001b[1;31m---------------------------------------------------------------------------\u001b[0m",
      "\u001b[1;31mTypeError\u001b[0m                                 Traceback (most recent call last)",
      "Cell \u001b[1;32mIn[2], line 16\u001b[0m\n\u001b[0;32m     14\u001b[0m \u001b[38;5;66;03m# Исходное изображение\u001b[39;00m\n\u001b[0;32m     15\u001b[0m plt\u001b[38;5;241m.\u001b[39mfigure(figsize\u001b[38;5;241m=\u001b[39m(\u001b[38;5;241m10\u001b[39m, \u001b[38;5;241m5\u001b[39m))\n\u001b[1;32m---> 16\u001b[0m plt\u001b[38;5;241m.\u001b[39mimshow(cmap\u001b[38;5;241m=\u001b[39m\u001b[38;5;124m'\u001b[39m\u001b[38;5;124mgray\u001b[39m\u001b[38;5;124m'\u001b[39m) \n\u001b[0;32m     17\u001b[0m plt\u001b[38;5;241m.\u001b[39mshow()\n",
      "\u001b[1;31mTypeError\u001b[0m: imshow() missing 1 required positional argument: 'X'"
     ]
    },
    {
     "data": {
      "text/plain": [
       "<Figure size 1000x500 with 0 Axes>"
      ]
     },
     "metadata": {},
     "output_type": "display_data"
    }
   ],
   "source": [
    "from PIL import Image\n",
    "import matplotlib.pyplot as plt  # Импорт библиотеки для отображения графиков\n",
    "import numpy as np\n",
    "\n",
    "import xmlrpc.client  # Импорт библиотеки xmlrpc.client\n",
    "\n",
    "# Режим отображения встроенных графиков\n",
    "%matplotlib inline\n",
    "\n",
    "img = Image.open('11.bmp') #11.bmp/Jellyfish.jpg\n",
    "\n",
    "img_arr = np.array(img)\n",
    "\n",
    "# Исходное изображение\n",
    "plt.figure(figsize=(10, 5))\n",
    "plt.imshow(cmap='gray') \n",
    "plt.show()"
   ]
  },
  {
   "cell_type": "code",
   "execution_count": null,
   "metadata": {},
   "outputs": [],
   "source": [
    "# Тест бинарной передачи данных\n",
    "import pickle\n",
    "import xmlrpc.client\n",
    "import matplotlib.pyplot as plt\n",
    "import numpy as np\n",
    "\n",
    "# Тест бинарной передачи данных\n",
    "pimg = pickle.dumps(img_arr)  # универсально\n",
    "\n",
    "img_bin = xmlrpc.client.Binary(pimg)\n",
    "\n",
    "img_bin2 = server.send_back_binary(img_bin)\n",
    "\n",
    "# img_arr2 = np.loads(img_bin2.data)\n",
    "img_arr2 = pickle.loads(img_bin2.data)  # универсально\n",
    "\n",
    "# Изображение после возврата с сервера\n",
    "plt.imshow(img_arr2, cmap='gray')\n",
    "plt.show()"
   ]
  },
  {
   "cell_type": "code",
   "execution_count": null,
   "metadata": {
    "scrolled": true
   },
   "outputs": [],
   "source": [
    "import pickle\n",
    "import xmlrpc.client\n",
    "import matplotlib.pyplot as plt\n",
    "\n",
    "# Инверсия цвета изображения через сервер\n",
    "def inv_color(img_arr_in):\n",
    "    pimg = pickle.dumps(img_arr_in)\n",
    "    img_bin = xmlrpc.client.Binary(pimg)\n",
    "    \n",
    "    img_bin2 = server.color_inversion(img_bin)\n",
    "    \n",
    "    img_arr_out = pickle.loads(img_bin2.data)\n",
    "    return img_arr_out\n",
    "\n",
    "img_arr_inv = inv_color(img_arr)\n",
    "\n",
    "# Изображение с инверсией цвета\n",
    "plt.imshow(cmap='gray')\n",
    "plt.show()\n"
   ]
  },
  {
   "cell_type": "code",
   "execution_count": null,
   "metadata": {
    "scrolled": true
   },
   "outputs": [],
   "source": [
    "#Бинаризация изображения\n",
    "import pickle\n",
    "import xmlrpc.client\n",
    "import matplotlib.pyplot as plt\n",
    "\n",
    "def binarize_img(img_arr_in, threshold):\n",
    "    img_data = pickle.dumps(img_arr_in)\n",
    "    binary_img_data = server.threshold_image(xmlrpc.client.Binary(img_data), threshold)\n",
    "    binary_img_arr = pickle.loads(binary_img_data.data)\n",
    "    return binary_img_arr\n",
    "\n",
    "img_arr_bin = binarize_img(img_arr, 100)\n",
    "\n",
    "plt.figure(figsize=(10, 5))\n",
    "plt.imshow(cmap='gray') # Удаляем размерность 1 для монохромных изображений\n",
    "plt.show()"
   ]
  },
  {
   "cell_type": "code",
   "execution_count": null,
   "metadata": {
    "scrolled": false
   },
   "outputs": [],
   "source": [
    "#Разворот изображения относительно вертикали\n",
    "import pickle\n",
    "import xmlrpc.client\n",
    "import matplotlib.pyplot as plt\n",
    "\n",
    "img_data = pickle.dumps(img_arr)\n",
    "binary_img_data = server.flip_image_vertical(xmlrpc.client.Binary(img_data))\n",
    "\n",
    "binary_img_arr = pickle.loads(binary_img_data.data)\n",
    "\n",
    "plt.figure(figsize=(10, 5))\n",
    "plt.imshow(cmap='gray')\n",
    "plt.show()"
   ]
  },
  {
   "cell_type": "code",
   "execution_count": null,
   "metadata": {
    "scrolled": false
   },
   "outputs": [],
   "source": [
    "print (server.black_list_check(u'Петров Петр Петрович', u'07.08.1985'))\n",
    "print (server.black_list_check(u'Иванов Иван Иванович', u'07.08.1985'))\n",
    "print (server.black_list_check(u'Петров Иван Петрович', u'07.08.1985'))\n"
   ]
  },
  {
   "cell_type": "code",
   "execution_count": null,
   "metadata": {},
   "outputs": [],
   "source": [
    "stats_server = xmlrpc.client.ServerProxy(\"http://localhost:8018\")\n",
    "\n",
    "event_type = \"sum\"\n",
    "start_time = \"2023-10-11 14:03:00\"\n",
    "end_time = \"2023-10-11 15:23:00\"\n",
    "\n",
    "log_entries = stats_server.get_event_log(event_type, start_time, end_time)\n",
    "print(log_entries)"
   ]
  },
  {
   "cell_type": "code",
   "execution_count": null,
   "metadata": {},
   "outputs": [],
   "source": []
  }
 ],
 "metadata": {
  "kernelspec": {
   "display_name": "Python 3 (ipykernel)",
   "language": "python",
   "name": "python3"
  },
  "language_info": {
   "codemirror_mode": {
    "name": "ipython",
    "version": 3
   },
   "file_extension": ".py",
   "mimetype": "text/x-python",
   "name": "python",
   "nbconvert_exporter": "python",
   "pygments_lexer": "ipython3",
   "version": "3.11.4"
  }
 },
 "nbformat": 4,
 "nbformat_minor": 2
}
