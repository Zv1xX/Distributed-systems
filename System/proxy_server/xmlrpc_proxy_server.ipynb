{
 "cells": [
  {
   "cell_type": "code",
   "execution_count": null,
   "id": "aab3a0e4",
   "metadata": {},
   "outputs": [
    {
     "name": "stdout",
     "output_type": "stream",
     "text": [
      "Proxy server is listening on port 8020...\n"
     ]
    },
    {
     "name": "stderr",
     "output_type": "stream",
     "text": [
      "127.0.0.1 - - [24/Oct/2023 17:11:05] \"POST /RPC2 HTTP/1.1\" 200 -\n",
      "127.0.0.1 - - [24/Oct/2023 17:11:08] \"POST /RPC2 HTTP/1.1\" 200 -\n",
      "127.0.0.1 - - [24/Oct/2023 17:11:11] \"POST /RPC2 HTTP/1.1\" 200 -\n",
      "127.0.0.1 - - [24/Oct/2023 17:12:01] \"POST /RPC2 HTTP/1.1\" 200 -\n",
      "127.0.0.1 - - [24/Oct/2023 17:12:11] \"POST /RPC2 HTTP/1.1\" 200 -\n",
      "127.0.0.1 - - [24/Oct/2023 17:12:21] \"POST /RPC2 HTTP/1.1\" 200 -\n",
      "127.0.0.1 - - [24/Oct/2023 17:12:26] \"POST /RPC2 HTTP/1.1\" 200 -\n",
      "127.0.0.1 - - [24/Oct/2023 17:12:30] \"POST /RPC2 HTTP/1.1\" 200 -\n",
      "127.0.0.1 - - [24/Oct/2023 17:12:33] \"POST /RPC2 HTTP/1.1\" 200 -\n",
      "127.0.0.1 - - [24/Oct/2023 17:12:37] \"POST /RPC2 HTTP/1.1\" 200 -\n"
     ]
    }
   ],
   "source": [
    "from xmlrpc.server import SimpleXMLRPCServer\n",
    "from xmlrpc.server import SimpleXMLRPCRequestHandler\n",
    "import xmlrpc.client\n",
    "from datetime import datetime\n",
    "\n",
    "class RequestHandler(SimpleXMLRPCRequestHandler):\n",
    "    rpc_paths = ('/RPC2',)\n",
    "\n",
    "proxy_server = SimpleXMLRPCServer((\"localhost\", 8020), \n",
    "                                  requestHandler=RequestHandler)\n",
    "server = xmlrpc.client.ServerProxy(\"http://localhost:8008\")\n",
    "stats_server = xmlrpc.client.ServerProxy(\"http://localhost:8018\")\n",
    "\n",
    "def proxy_function(event, event_type, args):\n",
    "    start = datetime.now()\n",
    "    result = event(*args)\n",
    "    execution_time = datetime.now() - start\n",
    "    stats_server.add_log(event_type, start.strftime(\"%Y-%m-%d %H:%M:%S\"), str(execution_time.seconds))\n",
    "    return result\n",
    "\n",
    "def black_list_check(*args):\n",
    "    return proxy_function(server.black_list_check, \"black_list_check\", args)\n",
    "proxy_server.register_function(black_list_check,'black_list_check')\n",
    "\n",
    "def send_back_binary(*args):\n",
    "    return proxy_function(server.send_back_binary, \"send_back_binary\", args)\n",
    "proxy_server.register_function(send_back_binary,'send_back_binary')\n",
    "\n",
    "def send_back_inversion(*args):\n",
    "    return proxy_function(server.send_back_inversion, \"send_back_inversion\", args)\n",
    "proxy_server.register_function(send_back_inversion,'send_back_inversion')\n",
    "\n",
    "def threshold_image(*args):\n",
    "    return proxy_function(server.threshold_image, \"threshold_image\", args)\n",
    "proxy_server.register_function(threshold_image,'threshold_image')\n",
    "\n",
    "def flip_image_vertical(*args):\n",
    "    return proxy_function(server.flip_image_vertical, \"flip_image_vertical\", args)\n",
    "proxy_server.register_function(flip_image_vertical,'flip_image_vertical')\n",
    "\n",
    "print(\"Proxy server is listening on port 8020...\")\n",
    "proxy_server.serve_forever()"
   ]
  }
 ],
 "metadata": {
  "kernelspec": {
   "display_name": "Python 3 (ipykernel)",
   "language": "python",
   "name": "python3"
  },
  "language_info": {
   "codemirror_mode": {
    "name": "ipython",
    "version": 3
   },
   "file_extension": ".py",
   "mimetype": "text/x-python",
   "name": "python",
   "nbconvert_exporter": "python",
   "pygments_lexer": "ipython3",
   "version": "3.11.4"
  }
 },
 "nbformat": 4,
 "nbformat_minor": 5
}
