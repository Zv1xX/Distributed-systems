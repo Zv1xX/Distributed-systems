{
 "cells": [
  {
   "cell_type": "markdown",
   "metadata": {},
   "source": [
    "#### Файл сервера xmlrpc_stats_server_p3.ipynb на Python 3 "
   ]
  },
  {
   "cell_type": "code",
   "execution_count": null,
   "metadata": {},
   "outputs": [
    {
     "name": "stdout",
     "output_type": "stream",
     "text": [
      "Listening on port 8018...\n"
     ]
    },
    {
     "name": "stderr",
     "output_type": "stream",
     "text": [
      "127.0.0.1 - - [24/Oct/2023 13:28:59] \"POST /RPC2 HTTP/1.1\" 200 -\n",
      "127.0.0.1 - - [24/Oct/2023 13:29:01] \"POST /RPC2 HTTP/1.1\" 200 -\n",
      "127.0.0.1 - - [24/Oct/2023 13:29:03] \"POST /RPC2 HTTP/1.1\" 200 -\n",
      "127.0.0.1 - - [24/Oct/2023 13:29:06] \"POST /RPC2 HTTP/1.1\" 200 -\n",
      "127.0.0.1 - - [24/Oct/2023 13:29:08] \"POST /RPC2 HTTP/1.1\" 200 -\n",
      "127.0.0.1 - - [24/Oct/2023 13:29:10] \"POST /RPC2 HTTP/1.1\" 200 -\n",
      "127.0.0.1 - - [24/Oct/2023 13:29:12] \"POST /RPC2 HTTP/1.1\" 200 -\n",
      "127.0.0.1 - - [24/Oct/2023 13:29:15] \"POST /RPC2 HTTP/1.1\" 200 -\n",
      "127.0.0.1 - - [24/Oct/2023 13:29:17] \"POST /RPC2 HTTP/1.1\" 200 -\n",
      "127.0.0.1 - - [24/Oct/2023 13:29:19] \"POST /RPC2 HTTP/1.1\" 200 -\n",
      "127.0.0.1 - - [24/Oct/2023 13:29:21] \"POST /RPC2 HTTP/1.1\" 200 -\n"
     ]
    }
   ],
   "source": [
    "\n",
    "from xmlrpc.server import SimpleXMLRPCServer\n",
    "from xmlrpc.server import SimpleXMLRPCRequestHandler\n",
    "\n",
    "import datetime\n",
    "import os\n",
    "import glob\n",
    "\n",
    "class RequestHandler(SimpleXMLRPCRequestHandler):\n",
    "    rpc_paths = ('/RPC2',)\n",
    "\n",
    "server = SimpleXMLRPCServer((\"localhost\", 8018), \n",
    "                            requestHandler=RequestHandler)\n",
    "\n",
    "max_log_size = 100\n",
    "log_file = 'log.csv'\n",
    "\n",
    "def manage_log_size():\n",
    "    if os.path.exists(log_file):\n",
    "        with open(log_file, 'r') as f:\n",
    "            log_size = sum(1 for line in f)  # Получаем текущий размер \n",
    "\n",
    "        if log_size >= max_log_size:\n",
    "            # Если текущий размер превышает максимальный, сохраняем его и создаем новый\n",
    "            save_old_log()\n",
    "            \n",
    "def save_old_log():\n",
    "    timestamp = datetime.datetime.now().strftime(\"%Y%m%d_%H%M%S\")\n",
    "    new_log_file = f'log_{timestamp}.csv'\n",
    "    \n",
    "    if os.path.exists(log_file):\n",
    "        os.rename(log_file, new_log_file)\n",
    "\n",
    "\n",
    "# Добавление строки в лог\n",
    "def add_log(sname):\n",
    "    f = open('log.csv','a')\n",
    "    f.write(str(sname)+','+ datetime.datetime.now().strftime(\"%Y-%m-%d %H:%M:%S\") +'\\n')\n",
    "    f.close()\n",
    "    \n",
    "    manage_log_size()\n",
    "    return True\n",
    "\n",
    "# Получение журнала событий с фильтрами\n",
    "def get_event_log(event_type, start_time, end_time):\n",
    "    all_logs = find_all_logs()\n",
    "    filtered_log = []\n",
    "    \n",
    "    start_time = datetime.datetime.strptime(start_time, \"%Y-%m-%d %H:%M:%S\")\n",
    "    end_time = datetime.datetime.strptime(end_time, \"%Y-%m-%d %H:%M:%S\")\n",
    "    \n",
    "    for log_file in all_logs:\n",
    "        with open(log_file, 'r') as f:\n",
    "            for line in f:\n",
    "                log_entry = line.strip().split(',')\n",
    "                log_event_type, log_timestamp = log_entry\n",
    "                log_time = datetime.datetime.strptime(log_timestamp, \"%Y-%m-%d %H:%M:%S\")\n",
    "                if log_event_type == event_type and start_time <= log_time <= end_time:\n",
    "                    filtered_log.append(f\"{log_event_type},{log_time}\")\n",
    "    \n",
    "    return filtered_log\n",
    "\n",
    "#Поиск всех логов в текущем каталоге\n",
    "def find_all_logs():\n",
    "    log_files = glob.glob('log_*.csv')\n",
    "    log_files.append(log_file)\n",
    "    return log_files\n",
    "\n",
    "server.register_function(add_log, 'add_log')\n",
    "server.register_function(get_event_log, 'get_event_log')\n",
    "\n",
    "print (\"Listening on port 8018...\")\n",
    "server.serve_forever()"
   ]
  },
  {
   "cell_type": "code",
   "execution_count": null,
   "metadata": {},
   "outputs": [],
   "source": []
  }
 ],
 "metadata": {
  "kernelspec": {
   "display_name": "Python 3 (ipykernel)",
   "language": "python",
   "name": "python3"
  },
  "language_info": {
   "codemirror_mode": {
    "name": "ipython",
    "version": 3
   },
   "file_extension": ".py",
   "mimetype": "text/x-python",
   "name": "python",
   "nbconvert_exporter": "python",
   "pygments_lexer": "ipython3",
   "version": "3.11.4"
  }
 },
 "nbformat": 4,
 "nbformat_minor": 2
}
