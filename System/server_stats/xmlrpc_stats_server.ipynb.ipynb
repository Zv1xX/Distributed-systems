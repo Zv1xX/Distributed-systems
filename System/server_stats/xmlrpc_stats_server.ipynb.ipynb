{
 "cells": [
  {
   "cell_type": "markdown",
   "metadata": {},
   "source": [
    "#### Файл сервера xmlrpc_stats_server_p3.ipynb на Python 3 "
   ]
  },
  {
   "cell_type": "code",
   "execution_count": null,
   "metadata": {},
   "outputs": [
    {
     "name": "stdout",
     "output_type": "stream",
     "text": [
      "Listening on port 8018...\n"
     ]
    },
    {
     "name": "stderr",
     "output_type": "stream",
     "text": [
      "127.0.0.1 - - [24/Oct/2023 17:16:23] \"POST /RPC2 HTTP/1.1\" 200 -\n",
      "127.0.0.1 - - [24/Oct/2023 17:16:24] \"POST /RPC2 HTTP/1.1\" 200 -\n",
      "127.0.0.1 - - [24/Oct/2023 17:16:25] \"POST /RPC2 HTTP/1.1\" 200 -\n",
      "127.0.0.1 - - [24/Oct/2023 17:16:47] \"POST /RPC2 HTTP/1.1\" 200 -\n",
      "127.0.0.1 - - [24/Oct/2023 17:16:48] \"POST /RPC2 HTTP/1.1\" 200 -\n",
      "127.0.0.1 - - [24/Oct/2023 17:16:49] \"POST /RPC2 HTTP/1.1\" 200 -\n",
      "127.0.0.1 - - [24/Oct/2023 17:20:14] \"POST /RPC2 HTTP/1.1\" 200 -\n",
      "127.0.0.1 - - [24/Oct/2023 17:20:15] \"POST /RPC2 HTTP/1.1\" 200 -\n",
      "127.0.0.1 - - [24/Oct/2023 17:20:16] \"POST /RPC2 HTTP/1.1\" 200 -\n",
      "127.0.0.1 - - [24/Oct/2023 17:21:15] \"POST /RPC2 HTTP/1.1\" 200 -\n",
      "127.0.0.1 - - [24/Oct/2023 17:21:40] \"POST /RPC2 HTTP/1.1\" 200 -\n",
      "127.0.0.1 - - [24/Oct/2023 17:21:41] \"POST /RPC2 HTTP/1.1\" 200 -\n",
      "127.0.0.1 - - [24/Oct/2023 17:21:42] \"POST /RPC2 HTTP/1.1\" 200 -\n"
     ]
    }
   ],
   "source": [
    "from xmlrpc.server import SimpleXMLRPCServer\n",
    "from xmlrpc.server import SimpleXMLRPCRequestHandler\n",
    "\n",
    "import sqlite3\n",
    "import datetime\n",
    "\n",
    "class RequestHandler(SimpleXMLRPCRequestHandler):\n",
    "    rpc_paths = ('/RPC2',)\n",
    "\n",
    "server = SimpleXMLRPCServer((\"localhost\", 8018), \n",
    "                            requestHandler=RequestHandler)\n",
    "db_name = \"log.db\"\n",
    "\n",
    "# Создание таблицы для хранения событий, если она не существует\n",
    "def create_table():\n",
    "    connection = sqlite3.connect(db_name)\n",
    "    cursor = connection.cursor()\n",
    "    cursor.execute('''\n",
    "        CREATE TABLE IF NOT EXISTS event_logs (\n",
    "            id INTEGER PRIMARY KEY AUTOINCREMENT,\n",
    "            event_type TEXT,\n",
    "            event_created TEXT,\n",
    "            execution_time INTEGER\n",
    "        );\n",
    "    ''')\n",
    "    connection.commit()\n",
    "    cursor.close()\n",
    "    connection.close()\n",
    "\n",
    "# Добавление лога\n",
    "def add_log(event_type, start, execution_time):\n",
    "    connection = sqlite3.connect(db_name)\n",
    "    cursor = connection.cursor()\n",
    "    cursor.execute(\"INSERT INTO event_logs VALUES (NULL, ?, ?, ?)\", (str(event_type), start, execution_time))\n",
    "    connection.commit()\n",
    "    cursor.close()\n",
    "    connection.close()\n",
    "    return True\n",
    "\n",
    "#Выполнение запроса\n",
    "def execute_query(sql, args):\n",
    "    connection = sqlite3.connect(db_name)\n",
    "    cursor = connection.cursor()\n",
    "    cursor.execute(sql, args)\n",
    "    rows = cursor.fetchall()\n",
    "    cursor.close()\n",
    "    connection.close()\n",
    "    return rows\n",
    "\n",
    "#Возвращение лога по типу события\n",
    "def get_by_event_type(event_type):\n",
    "    sql = \"SELECT * FROM event_logs WHERE event_type = ?\"\n",
    "    return execute_query(sql, (event_type,))\n",
    "\n",
    "#Возвращение лога по времени вызова\n",
    "def get_in_period(start_date, end_date):\n",
    "    sql = \"SELECT * FROM event_logs WHERE event_created >= ? AND event_created <= ?\"\n",
    "    return execute_query(sql, (start_date, end_date))\n",
    "\n",
    "#Возвращение лога по длительности\n",
    "def get_by_duration(min_duration, max_duration):\n",
    "    sql = \"SELECT * FROM event_logs WHERE execution_time >= ? AND execution_time <= ?\"\n",
    "    return execute_query(sql, (min_duration, max_duration))\n",
    "\n",
    "create_table()\n",
    "server.register_function(add_log, 'add_log')\n",
    "server.register_function(get_by_event_type, 'get_by_event_type')\n",
    "server.register_function(get_in_period, 'get_in_period')\n",
    "server.register_function(get_by_duration, 'get_by_duration')\n",
    "\n",
    "print (\"Listening on port 8018...\")\n",
    "server.serve_forever()"
   ]
  },
  {
   "cell_type": "code",
   "execution_count": null,
   "metadata": {},
   "outputs": [],
   "source": []
  }
 ],
 "metadata": {
  "kernelspec": {
   "display_name": "Python 3 (ipykernel)",
   "language": "python",
   "name": "python3"
  },
  "language_info": {
   "codemirror_mode": {
    "name": "ipython",
    "version": 3
   },
   "file_extension": ".py",
   "mimetype": "text/x-python",
   "name": "python",
   "nbconvert_exporter": "python",
   "pygments_lexer": "ipython3",
   "version": "3.11.4"
  }
 },
 "nbformat": 4,
 "nbformat_minor": 2
}
